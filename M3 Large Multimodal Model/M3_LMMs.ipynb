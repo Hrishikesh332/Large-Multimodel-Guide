{
  "cells": [
    {
      "cell_type": "markdown",
      "id": "b389d4fd-41ec-4a53-b4de-ac8687c5fc73",
      "metadata": {
        "id": "b389d4fd-41ec-4a53-b4de-ac8687c5fc73"
      },
      "source": [
        "Large Multimodal Models (LMMs)"
      ]
    },
    {
      "cell_type": "code",
      "execution_count": 1,
      "id": "24f47148-c30f-4a0d-9d49-79e13e259c7d",
      "metadata": {
        "height": 47,
        "id": "24f47148-c30f-4a0d-9d49-79e13e259c7d"
      },
      "outputs": [],
      "source": [
        "import warnings\n",
        "warnings.filterwarnings('ignore')"
      ]
    },
    {
      "cell_type": "markdown",
      "id": "5177f964-237d-41bf-9cc1-4dd358e5c26a",
      "metadata": {
        "id": "5177f964-237d-41bf-9cc1-4dd358e5c26a"
      },
      "source": [
        "## Setup\n",
        "### Load environment variables and API keys"
      ]
    },
    {
      "cell_type": "code",
      "source": [
        "  !pip install google-generativeai"
      ],
      "metadata": {
        "colab": {
          "base_uri": "https://localhost:8080/"
        },
        "id": "a4kq57_zmy2_",
        "outputId": "5045902e-c850-4c54-b9d5-619c41c0e54d"
      },
      "id": "a4kq57_zmy2_",
      "execution_count": 2,
      "outputs": [
        {
          "output_type": "stream",
          "name": "stdout",
          "text": [
            "Requirement already satisfied: google-generativeai in /usr/local/lib/python3.10/dist-packages (0.5.4)\n",
            "Requirement already satisfied: google-ai-generativelanguage==0.6.4 in /usr/local/lib/python3.10/dist-packages (from google-generativeai) (0.6.4)\n",
            "Requirement already satisfied: google-api-core in /usr/local/lib/python3.10/dist-packages (from google-generativeai) (2.11.1)\n",
            "Requirement already satisfied: google-api-python-client in /usr/local/lib/python3.10/dist-packages (from google-generativeai) (2.84.0)\n",
            "Requirement already satisfied: google-auth>=2.15.0 in /usr/local/lib/python3.10/dist-packages (from google-generativeai) (2.27.0)\n",
            "Requirement already satisfied: protobuf in /usr/local/lib/python3.10/dist-packages (from google-generativeai) (3.20.3)\n",
            "Requirement already satisfied: pydantic in /usr/local/lib/python3.10/dist-packages (from google-generativeai) (2.7.1)\n",
            "Requirement already satisfied: tqdm in /usr/local/lib/python3.10/dist-packages (from google-generativeai) (4.66.4)\n",
            "Requirement already satisfied: typing-extensions in /usr/local/lib/python3.10/dist-packages (from google-generativeai) (4.11.0)\n",
            "Requirement already satisfied: proto-plus<2.0.0dev,>=1.22.3 in /usr/local/lib/python3.10/dist-packages (from google-ai-generativelanguage==0.6.4->google-generativeai) (1.23.0)\n",
            "Requirement already satisfied: cachetools<6.0,>=2.0.0 in /usr/local/lib/python3.10/dist-packages (from google-auth>=2.15.0->google-generativeai) (5.3.3)\n",
            "Requirement already satisfied: pyasn1-modules>=0.2.1 in /usr/local/lib/python3.10/dist-packages (from google-auth>=2.15.0->google-generativeai) (0.4.0)\n",
            "Requirement already satisfied: rsa<5,>=3.1.4 in /usr/local/lib/python3.10/dist-packages (from google-auth>=2.15.0->google-generativeai) (4.9)\n",
            "Requirement already satisfied: googleapis-common-protos<2.0.dev0,>=1.56.2 in /usr/local/lib/python3.10/dist-packages (from google-api-core->google-generativeai) (1.63.0)\n",
            "Requirement already satisfied: requests<3.0.0.dev0,>=2.18.0 in /usr/local/lib/python3.10/dist-packages (from google-api-core->google-generativeai) (2.31.0)\n",
            "Requirement already satisfied: httplib2<1dev,>=0.15.0 in /usr/local/lib/python3.10/dist-packages (from google-api-python-client->google-generativeai) (0.22.0)\n",
            "Requirement already satisfied: google-auth-httplib2>=0.1.0 in /usr/local/lib/python3.10/dist-packages (from google-api-python-client->google-generativeai) (0.1.1)\n",
            "Requirement already satisfied: uritemplate<5,>=3.0.1 in /usr/local/lib/python3.10/dist-packages (from google-api-python-client->google-generativeai) (4.1.1)\n",
            "Requirement already satisfied: annotated-types>=0.4.0 in /usr/local/lib/python3.10/dist-packages (from pydantic->google-generativeai) (0.7.0)\n",
            "Requirement already satisfied: pydantic-core==2.18.2 in /usr/local/lib/python3.10/dist-packages (from pydantic->google-generativeai) (2.18.2)\n",
            "Requirement already satisfied: grpcio<2.0dev,>=1.33.2 in /usr/local/lib/python3.10/dist-packages (from google-api-core->google-generativeai) (1.64.0)\n",
            "Requirement already satisfied: grpcio-status<2.0.dev0,>=1.33.2 in /usr/local/lib/python3.10/dist-packages (from google-api-core->google-generativeai) (1.48.2)\n",
            "Requirement already satisfied: pyparsing!=3.0.0,!=3.0.1,!=3.0.2,!=3.0.3,<4,>=2.4.2 in /usr/local/lib/python3.10/dist-packages (from httplib2<1dev,>=0.15.0->google-api-python-client->google-generativeai) (3.1.2)\n",
            "Requirement already satisfied: pyasn1<0.7.0,>=0.4.6 in /usr/local/lib/python3.10/dist-packages (from pyasn1-modules>=0.2.1->google-auth>=2.15.0->google-generativeai) (0.6.0)\n",
            "Requirement already satisfied: charset-normalizer<4,>=2 in /usr/local/lib/python3.10/dist-packages (from requests<3.0.0.dev0,>=2.18.0->google-api-core->google-generativeai) (3.3.2)\n",
            "Requirement already satisfied: idna<4,>=2.5 in /usr/local/lib/python3.10/dist-packages (from requests<3.0.0.dev0,>=2.18.0->google-api-core->google-generativeai) (3.7)\n",
            "Requirement already satisfied: urllib3<3,>=1.21.1 in /usr/local/lib/python3.10/dist-packages (from requests<3.0.0.dev0,>=2.18.0->google-api-core->google-generativeai) (2.0.7)\n",
            "Requirement already satisfied: certifi>=2017.4.17 in /usr/local/lib/python3.10/dist-packages (from requests<3.0.0.dev0,>=2.18.0->google-api-core->google-generativeai) (2024.2.2)\n"
          ]
        }
      ]
    },
    {
      "cell_type": "code",
      "execution_count": null,
      "id": "7b21ac31-961c-400e-8a70-e0b0ce367aa9",
      "metadata": {
        "height": 98,
        "id": "7b21ac31-961c-400e-8a70-e0b0ce367aa9"
      },
      "outputs": [],
      "source": [
        "import os\n",
        "from dotenv import load_dotenv, find_dotenv\n",
        "\n",
        "_ = load_dotenv(find_dotenv())\n",
        "GOOGLE_API_KEY=os.getenv('GOOGLE_API_KEY')"
      ]
    },
    {
      "cell_type": "code",
      "execution_count": 6,
      "id": "47fab612-7eee-419f-9f2f-d49715640c3f",
      "metadata": {
        "height": 199,
        "id": "47fab612-7eee-419f-9f2f-d49715640c3f"
      },
      "outputs": [],
      "source": [
        "import google.generativeai as genai\n",
        "from google.api_core.client_options import ClientOptions\n",
        "\n",
        "genai.configure(\n",
        "        api_key=GOOGLE_API_KEY,\n",
        "        transport=\"rest\",\n",
        "        client_options=ClientOptions(\n",
        "            api_endpoint=os.getenv(\"GOOGLE_API_BASE\"),\n",
        "        ),\n",
        ")"
      ]
    },
    {
      "cell_type": "markdown",
      "id": "bfa5699c-118a-472e-9af1-cc588e5cec7d",
      "metadata": {
        "id": "bfa5699c-118a-472e-9af1-cc588e5cec7d"
      },
      "source": [
        "## Helper functions"
      ]
    },
    {
      "cell_type": "code",
      "execution_count": 7,
      "id": "d71fc5b0-89cd-4fac-ba92-bcf8d398897b",
      "metadata": {
        "height": 149,
        "id": "d71fc5b0-89cd-4fac-ba92-bcf8d398897b"
      },
      "outputs": [],
      "source": [
        "import textwrap\n",
        "import PIL.Image\n",
        "from IPython.display import Markdown, Image\n",
        "\n",
        "def to_markdown(text):\n",
        "    text = text.replace('•', '  *')\n",
        "    return Markdown(textwrap.indent(text, '> ', predicate=lambda _: True))\n"
      ]
    },
    {
      "cell_type": "markdown",
      "id": "64de3c92",
      "metadata": {
        "id": "64de3c92"
      },
      "source": [
        "* Function to call LMM (Large Multimodal Model)."
      ]
    },
    {
      "cell_type": "code",
      "execution_count": 8,
      "id": "d5127688-e33f-4e3c-b390-5bb21dc22f39",
      "metadata": {
        "height": 183,
        "id": "d5127688-e33f-4e3c-b390-5bb21dc22f39"
      },
      "outputs": [],
      "source": [
        "def call_LMM(image_path: str, prompt: str) -> str:\n",
        "    img = PIL.Image.open(image_path)\n",
        "\n",
        "    model = genai.GenerativeModel('gemini-pro-vision')\n",
        "    response = model.generate_content([prompt, img], stream=True)\n",
        "    response.resolve()\n",
        "\n",
        "    return to_markdown(response.text)"
      ]
    },
    {
      "cell_type": "markdown",
      "id": "aa6c3330-e9fd-49ce-acde-1d01ada7cbd4",
      "metadata": {
        "id": "aa6c3330-e9fd-49ce-acde-1d01ada7cbd4"
      },
      "source": [
        "## Analyze images with an LMM"
      ]
    },
    {
      "cell_type": "code",
      "execution_count": 9,
      "id": "0ffdd495-d552-4ea8-b537-d1e66cfe4647",
      "metadata": {
        "height": 47,
        "colab": {
          "resources": {
            "http://localhost:8080/GPT.png": {
              "data": "CjwhRE9DVFlQRSBodG1sPgo8aHRtbCBsYW5nPWVuPgogIDxtZXRhIGNoYXJzZXQ9dXRmLTg+CiAgPG1ldGEgbmFtZT12aWV3cG9ydCBjb250ZW50PSJpbml0aWFsLXNjYWxlPTEsIG1pbmltdW0tc2NhbGU9MSwgd2lkdGg9ZGV2aWNlLXdpZHRoIj4KICA8dGl0bGU+RXJyb3IgNDA0IChOb3QgRm91bmQpISExPC90aXRsZT4KICA8c3R5bGU+CiAgICAqe21hcmdpbjowO3BhZGRpbmc6MH1odG1sLGNvZGV7Zm9udDoxNXB4LzIycHggYXJpYWwsc2Fucy1zZXJpZn1odG1se2JhY2tncm91bmQ6I2ZmZjtjb2xvcjojMjIyO3BhZGRpbmc6MTVweH1ib2R5e21hcmdpbjo3JSBhdXRvIDA7bWF4LXdpZHRoOjM5MHB4O21pbi1oZWlnaHQ6MTgwcHg7cGFkZGluZzozMHB4IDAgMTVweH0qID4gYm9keXtiYWNrZ3JvdW5kOnVybCgvL3d3dy5nb29nbGUuY29tL2ltYWdlcy9lcnJvcnMvcm9ib3QucG5nKSAxMDAlIDVweCBuby1yZXBlYXQ7cGFkZGluZy1yaWdodDoyMDVweH1we21hcmdpbjoxMXB4IDAgMjJweDtvdmVyZmxvdzpoaWRkZW59aW5ze2NvbG9yOiM3Nzc7dGV4dC1kZWNvcmF0aW9uOm5vbmV9YSBpbWd7Ym9yZGVyOjB9QG1lZGlhIHNjcmVlbiBhbmQgKG1heC13aWR0aDo3NzJweCl7Ym9keXtiYWNrZ3JvdW5kOm5vbmU7bWFyZ2luLXRvcDowO21heC13aWR0aDpub25lO3BhZGRpbmctcmlnaHQ6MH19I2xvZ297YmFja2dyb3VuZDp1cmwoLy93d3cuZ29vZ2xlLmNvbS9pbWFnZXMvbG9nb3MvZXJyb3JwYWdlL2Vycm9yX2xvZ28tMTUweDU0LnBuZykgbm8tcmVwZWF0O21hcmdpbi1sZWZ0Oi01cHh9QG1lZGlhIG9ubHkgc2NyZWVuIGFuZCAobWluLXJlc29sdXRpb246MTkyZHBpKXsjbG9nb3tiYWNrZ3JvdW5kOnVybCgvL3d3dy5nb29nbGUuY29tL2ltYWdlcy9sb2dvcy9lcnJvcnBhZ2UvZXJyb3JfbG9nby0xNTB4NTQtMngucG5nKSBuby1yZXBlYXQgMCUgMCUvMTAwJSAxMDAlOy1tb3otYm9yZGVyLWltYWdlOnVybCgvL3d3dy5nb29nbGUuY29tL2ltYWdlcy9sb2dvcy9lcnJvcnBhZ2UvZXJyb3JfbG9nby0xNTB4NTQtMngucG5nKSAwfX1AbWVkaWEgb25seSBzY3JlZW4gYW5kICgtd2Via2l0LW1pbi1kZXZpY2UtcGl4ZWwtcmF0aW86Mil7I2xvZ297YmFja2dyb3VuZDp1cmwoLy93d3cuZ29vZ2xlLmNvbS9pbWFnZXMvbG9nb3MvZXJyb3JwYWdlL2Vycm9yX2xvZ28tMTUweDU0LTJ4LnBuZykgbm8tcmVwZWF0Oy13ZWJraXQtYmFja2dyb3VuZC1zaXplOjEwMCUgMTAwJX19I2xvZ297ZGlzcGxheTppbmxpbmUtYmxvY2s7aGVpZ2h0OjU0cHg7d2lkdGg6MTUwcHh9CiAgPC9zdHlsZT4KICA8YSBocmVmPS8vd3d3Lmdvb2dsZS5jb20vPjxzcGFuIGlkPWxvZ28gYXJpYS1sYWJlbD1Hb29nbGU+PC9zcGFuPjwvYT4KICA8cD48Yj40MDQuPC9iPiA8aW5zPlRoYXTigJlzIGFuIGVycm9yLjwvaW5zPgogIDxwPiAgPGlucz5UaGF04oCZcyBhbGwgd2Uga25vdy48L2lucz4K",
              "ok": false,
              "headers": [
                [
                  "content-length",
                  "1449"
                ],
                [
                  "content-type",
                  "text/html; charset=utf-8"
                ]
              ],
              "status": 404,
              "status_text": ""
            }
          },
          "base_uri": "https://localhost:8080/",
          "height": 37
        },
        "id": "0ffdd495-d552-4ea8-b537-d1e66cfe4647",
        "outputId": "5e562a16-4cf5-41fb-e94c-fd031861ab57"
      },
      "outputs": [
        {
          "output_type": "execute_result",
          "data": {
            "text/html": [
              "<img src=\"GPT.png\"/>"
            ],
            "text/plain": [
              "<IPython.core.display.Image object>"
            ]
          },
          "metadata": {},
          "execution_count": 9
        }
      ],
      "source": [
        "Image(url= \"GPT.png\")"
      ]
    },
    {
      "cell_type": "code",
      "execution_count": 10,
      "id": "4b034f67-b4a4-416b-a660-9b4d9fa6a741",
      "metadata": {
        "height": 64,
        "colab": {
          "base_uri": "https://localhost:8080/",
          "height": 219
        },
        "id": "4b034f67-b4a4-416b-a660-9b4d9fa6a741",
        "outputId": "5c172d33-382b-40ec-8776-69d96c7a969f"
      },
      "outputs": [
        {
          "output_type": "execute_result",
          "data": {
            "text/plain": [
              "<IPython.core.display.Markdown object>"
            ],
            "text/markdown": ">  The image shows the architecture of a Transformer model, which is a type of neural network that is used for machine translation and other natural language processing tasks. \n> \n> The model consists of two parts: an encoder and a decoder. The encoder converts the input sequence into a fixed-length vector, and the decoder uses this vector to generate the output sequence. \n> \n> The encoder and decoder are both made up of multiple layers of Transformer blocks. Each Transformer block consists of a self-attention layer and a feed-forward layer. The self-attention layer allows the model to attend to different parts of the input sequence, and the feed-forward layer allows the model to learn relationships between the different parts of the input sequence.\n> \n> The Transformer model is a powerful and versatile model that has achieved state-of-the-art results on a variety of natural language processing tasks."
          },
          "metadata": {},
          "execution_count": 10
        }
      ],
      "source": [
        "call_LMM(\"GPT.png\",\n",
        "    \"Explain what you see in this image.\")"
      ]
    },
    {
      "cell_type": "markdown",
      "id": "74fbc266-3c54-44d6-ac98-0e8c90829347",
      "metadata": {
        "id": "74fbc266-3c54-44d6-ac98-0e8c90829347"
      },
      "source": [
        "## Decode the hidden message"
      ]
    },
    {
      "cell_type": "code",
      "execution_count": 11,
      "id": "fbc87edc-bcf8-490c-aafc-61c2a3d306b7",
      "metadata": {
        "height": 30,
        "colab": {
          "resources": {
            "http://localhost:8080/images.png": {
              "data": "CjwhRE9DVFlQRSBodG1sPgo8aHRtbCBsYW5nPWVuPgogIDxtZXRhIGNoYXJzZXQ9dXRmLTg+CiAgPG1ldGEgbmFtZT12aWV3cG9ydCBjb250ZW50PSJpbml0aWFsLXNjYWxlPTEsIG1pbmltdW0tc2NhbGU9MSwgd2lkdGg9ZGV2aWNlLXdpZHRoIj4KICA8dGl0bGU+RXJyb3IgNDA0IChOb3QgRm91bmQpISExPC90aXRsZT4KICA8c3R5bGU+CiAgICAqe21hcmdpbjowO3BhZGRpbmc6MH1odG1sLGNvZGV7Zm9udDoxNXB4LzIycHggYXJpYWwsc2Fucy1zZXJpZn1odG1se2JhY2tncm91bmQ6I2ZmZjtjb2xvcjojMjIyO3BhZGRpbmc6MTVweH1ib2R5e21hcmdpbjo3JSBhdXRvIDA7bWF4LXdpZHRoOjM5MHB4O21pbi1oZWlnaHQ6MTgwcHg7cGFkZGluZzozMHB4IDAgMTVweH0qID4gYm9keXtiYWNrZ3JvdW5kOnVybCgvL3d3dy5nb29nbGUuY29tL2ltYWdlcy9lcnJvcnMvcm9ib3QucG5nKSAxMDAlIDVweCBuby1yZXBlYXQ7cGFkZGluZy1yaWdodDoyMDVweH1we21hcmdpbjoxMXB4IDAgMjJweDtvdmVyZmxvdzpoaWRkZW59aW5ze2NvbG9yOiM3Nzc7dGV4dC1kZWNvcmF0aW9uOm5vbmV9YSBpbWd7Ym9yZGVyOjB9QG1lZGlhIHNjcmVlbiBhbmQgKG1heC13aWR0aDo3NzJweCl7Ym9keXtiYWNrZ3JvdW5kOm5vbmU7bWFyZ2luLXRvcDowO21heC13aWR0aDpub25lO3BhZGRpbmctcmlnaHQ6MH19I2xvZ297YmFja2dyb3VuZDp1cmwoLy93d3cuZ29vZ2xlLmNvbS9pbWFnZXMvbG9nb3MvZXJyb3JwYWdlL2Vycm9yX2xvZ28tMTUweDU0LnBuZykgbm8tcmVwZWF0O21hcmdpbi1sZWZ0Oi01cHh9QG1lZGlhIG9ubHkgc2NyZWVuIGFuZCAobWluLXJlc29sdXRpb246MTkyZHBpKXsjbG9nb3tiYWNrZ3JvdW5kOnVybCgvL3d3dy5nb29nbGUuY29tL2ltYWdlcy9sb2dvcy9lcnJvcnBhZ2UvZXJyb3JfbG9nby0xNTB4NTQtMngucG5nKSBuby1yZXBlYXQgMCUgMCUvMTAwJSAxMDAlOy1tb3otYm9yZGVyLWltYWdlOnVybCgvL3d3dy5nb29nbGUuY29tL2ltYWdlcy9sb2dvcy9lcnJvcnBhZ2UvZXJyb3JfbG9nby0xNTB4NTQtMngucG5nKSAwfX1AbWVkaWEgb25seSBzY3JlZW4gYW5kICgtd2Via2l0LW1pbi1kZXZpY2UtcGl4ZWwtcmF0aW86Mil7I2xvZ297YmFja2dyb3VuZDp1cmwoLy93d3cuZ29vZ2xlLmNvbS9pbWFnZXMvbG9nb3MvZXJyb3JwYWdlL2Vycm9yX2xvZ28tMTUweDU0LTJ4LnBuZykgbm8tcmVwZWF0Oy13ZWJraXQtYmFja2dyb3VuZC1zaXplOjEwMCUgMTAwJX19I2xvZ297ZGlzcGxheTppbmxpbmUtYmxvY2s7aGVpZ2h0OjU0cHg7d2lkdGg6MTUwcHh9CiAgPC9zdHlsZT4KICA8YSBocmVmPS8vd3d3Lmdvb2dsZS5jb20vPjxzcGFuIGlkPWxvZ28gYXJpYS1sYWJlbD1Hb29nbGU+PC9zcGFuPjwvYT4KICA8cD48Yj40MDQuPC9iPiA8aW5zPlRoYXTigJlzIGFuIGVycm9yLjwvaW5zPgogIDxwPiAgPGlucz5UaGF04oCZcyBhbGwgd2Uga25vdy48L2lucz4K",
              "ok": false,
              "headers": [
                [
                  "content-length",
                  "1449"
                ],
                [
                  "content-type",
                  "text/html; charset=utf-8"
                ]
              ],
              "status": 404,
              "status_text": ""
            }
          },
          "base_uri": "https://localhost:8080/",
          "height": 37
        },
        "id": "fbc87edc-bcf8-490c-aafc-61c2a3d306b7",
        "outputId": "d651ec3e-0185-4b36-84e4-f1f6df81d48c"
      },
      "outputs": [
        {
          "output_type": "execute_result",
          "data": {
            "text/html": [
              "<img src=\"images.png\"/>"
            ],
            "text/plain": [
              "<IPython.core.display.Image object>"
            ]
          },
          "metadata": {},
          "execution_count": 11
        }
      ],
      "source": [
        "Image(url= \"images.png\")"
      ]
    },
    {
      "cell_type": "code",
      "execution_count": 12,
      "id": "0b79706a-f336-41ca-96e0-211282b6d8a0",
      "metadata": {
        "height": 64,
        "colab": {
          "base_uri": "https://localhost:8080/",
          "height": 62
        },
        "id": "0b79706a-f336-41ca-96e0-211282b6d8a0",
        "outputId": "3a1ddbdb-0a85-4066-b925-cf97c9275ac8"
      },
      "outputs": [
        {
          "output_type": "execute_result",
          "data": {
            "text/plain": [
              "<IPython.core.display.Markdown object>"
            ],
            "text/markdown": ">  This is a green square."
          },
          "metadata": {},
          "execution_count": 12
        }
      ],
      "source": [
        "call_LMM(\"images.png\",\n",
        "    \"Read what you see on this image.\")"
      ]
    },
    {
      "cell_type": "code",
      "source": [
        "import matplotlib.pyplot as plt"
      ],
      "metadata": {
        "id": "v_DXCBBqsto1"
      },
      "id": "v_DXCBBqsto1",
      "execution_count": 16,
      "outputs": []
    },
    {
      "cell_type": "code",
      "execution_count": 17,
      "id": "7eaaf218",
      "metadata": {
        "height": 149,
        "id": "7eaaf218"
      },
      "outputs": [],
      "source": [
        "def create_image_with_text(text, font_size=20, font_family='sans-serif', text_color='#73D955', background_color='#7ED957'):\n",
        "    fig, ax = plt.subplots(figsize=(5, 5))\n",
        "    fig.patch.set_facecolor(background_color)\n",
        "    ax.text(0.5, 0.5, text, fontsize=font_size, ha='center', va='center', color=text_color, fontfamily=font_family)\n",
        "    ax.axis('off')\n",
        "    plt.tight_layout()\n",
        "    return fig"
      ]
    },
    {
      "cell_type": "code",
      "execution_count": 18,
      "id": "58373242",
      "metadata": {
        "height": 115,
        "colab": {
          "base_uri": "https://localhost:8080/",
          "height": 507
        },
        "id": "58373242",
        "outputId": "5d603df1-d500-4daa-a6d3-b57f2fecdcb7"
      },
      "outputs": [
        {
          "output_type": "display_data",
          "data": {
            "text/plain": [
              "<Figure size 500x500 with 1 Axes>"
            ],
            "image/png": "[encoded data removed]"
          },
          "metadata": {}
        }
      ],
      "source": [
        "fig = create_image_with_text(\"Heya, Hrishikesh Here\")\n",
        "plt.show()\n",
        "fig.savefig(\"extra_output_image.png\")"
      ]
    },
    {
      "cell_type": "code",
      "execution_count": 19,
      "id": "3b153c37",
      "metadata": {
        "height": 64,
        "colab": {
          "base_uri": "https://localhost:8080/",
          "height": 62
        },
        "id": "3b153c37",
        "outputId": "f0080c06-e126-4351-82e1-a2bbc3a35ba9"
      },
      "outputs": [
        {
          "output_type": "execute_result",
          "data": {
            "text/plain": [
              "<IPython.core.display.Markdown object>"
            ],
            "text/markdown": ">  \"Hey, Hrishikesh Here\""
          },
          "metadata": {},
          "execution_count": 19
        }
      ],
      "source": [
        "call_LMM(\"extra_output_image.png\",\n",
        "    \"Read what you see on this image.\")"
      ]
    },
    {
      "cell_type": "code",
      "source": [
        "import imageio\n",
        "import numpy as np"
      ],
      "metadata": {
        "id": "Ts3fXGRJs_Cx"
      },
      "id": "Ts3fXGRJs_Cx",
      "execution_count": 22,
      "outputs": []
    },
    {
      "cell_type": "code",
      "execution_count": 23,
      "id": "f1c76e87",
      "metadata": {
        "height": 115,
        "colab": {
          "base_uri": "https://localhost:8080/",
          "height": 435
        },
        "id": "f1c76e87",
        "outputId": "c63b258e-c503-4436-ad9e-b76e256d1059"
      },
      "outputs": [
        {
          "output_type": "display_data",
          "data": {
            "text/plain": [
              "<Figure size 640x480 with 1 Axes>"
            ],
            "image/png": "[encoded data removed]"
          },
          "metadata": {}
        }
      ],
      "source": [
        "image = imageio.imread(\"extra_output_image.png\")\n",
        "\n",
        "image_array = np.array(image)\n",
        "\n",
        "plt.imshow(np.where(image_array[:,:,0]>120, 0,1), cmap='gray');"
      ]
    },
    {
      "cell_type": "code",
      "source": [],
      "metadata": {
        "id": "I1kMQzk5tCLq"
      },
      "id": "I1kMQzk5tCLq",
      "execution_count": null,
      "outputs": []
    }
  ],
  "metadata": {
    "kernelspec": {
      "display_name": "Python 3 (ipykernel)",
      "language": "python",
      "name": "python3"
    },
    "language_info": {
      "codemirror_mode": {
        "name": "ipython",
        "version": 3
      },
      "file_extension": ".py",
      "mimetype": "text/x-python",
      "name": "python",
      "nbconvert_exporter": "python",
      "pygments_lexer": "ipython3",
      "version": "3.11.9"
    },
    "colab": {
      "provenance": []
    }
  },
  "nbformat": 4,
  "nbformat_minor": 5
}